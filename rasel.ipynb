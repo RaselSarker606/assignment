{
  "nbformat": 4,
  "nbformat_minor": 0,
  "metadata": {
    "colab": {
      "provenance": [],
      "gpuType": "T4"
    },
    "kernelspec": {
      "name": "python3",
      "display_name": "Python 3"
    },
    "language_info": {
      "name": "python"
    },
    "accelerator": "GPU"
  },
  "cells": [
    {
      "cell_type": "markdown",
      "source": [
        "1. Write a program that swaps the values of two variables."
      ],
      "metadata": {
        "id": "1zLAXZVHPJBC"
      }
    },
    {
      "cell_type": "code",
      "source": [
        "x = 10.5\n",
        "y = 20.5\n",
        "\n",
        "#swaps\n",
        "temp = x\n",
        "x = y\n",
        "y = temp\n",
        "\n",
        "print('the valus of x',x)\n",
        "print('the valus of y',y)"
      ],
      "metadata": {
        "colab": {
          "base_uri": "https://localhost:8080/"
        },
        "id": "cUMukFI_PMIa",
        "outputId": "2764faf7-16a0-45c3-9651-86d6fd279fa0"
      },
      "execution_count": 4,
      "outputs": [
        {
          "output_type": "stream",
          "name": "stdout",
          "text": [
            "the valus of x 20.5\n",
            "the valus of y 10.5\n"
          ]
        }
      ]
    },
    {
      "cell_type": "markdown",
      "source": [
        "2. Write a program that calculates the area of a rectangle given its length and width."
      ],
      "metadata": {
        "id": "iZiwyDbeQKPR"
      }
    },
    {
      "cell_type": "code",
      "source": [
        "length = float(input(\"Enter the length of rectangle : \"))\n",
        "width = float(input(\"Enter the width of rectangle : \"))\n",
        "\n",
        "area = length*width\n",
        "\n",
        "print(\"The are of rectangle is : {}\".format(area))"
      ],
      "metadata": {
        "colab": {
          "base_uri": "https://localhost:8080/"
        },
        "id": "5i8MMCMAQM2g",
        "outputId": "906b6c0d-ee9e-41e8-8f32-f3b30fd94319"
      },
      "execution_count": 5,
      "outputs": [
        {
          "output_type": "stream",
          "name": "stdout",
          "text": [
            "Enter the length of rectangle : 10\n",
            "Enter the width of rectangle : 10\n",
            "The are of rectangle is : 100.0\n"
          ]
        }
      ]
    },
    {
      "cell_type": "markdown",
      "source": [
        "3. Write a program that converts temperature from Fahrenheit to Celsius."
      ],
      "metadata": {
        "id": "vz9Wk4TPRb99"
      }
    },
    {
      "cell_type": "code",
      "source": [
        "fahrenheit = float(input('Input temperature in Fahrenheit : '))\n",
        "\n",
        "celsius = (fahrenheit - 32)*5/9\n",
        "\n",
        "print('{} degrees fahrenheit equal to {} degress celsius '.format(fahrenheit,celsius))"
      ],
      "metadata": {
        "colab": {
          "base_uri": "https://localhost:8080/"
        },
        "id": "6K1k89wRReuF",
        "outputId": "371485e9-da07-4b74-c6f0-9ac957585b96"
      },
      "execution_count": 8,
      "outputs": [
        {
          "output_type": "stream",
          "name": "stdout",
          "text": [
            "Input temperature in Fahrenheit : 100\n",
            "100.0 degrees fahrenheit equal to 37.77777777777778 degress celsius \n"
          ]
        }
      ]
    },
    {
      "cell_type": "markdown",
      "source": [
        "4. Write a program that calculates the volume of a sphere given its radius."
      ],
      "metadata": {
        "id": "w-aMWv1hT4ko"
      }
    },
    {
      "cell_type": "code",
      "source": [
        "pi_value = 22/7\n",
        "radius = float(input(\"Enter the radius of sphare\"))\n",
        "\n",
        "sphere = (4*pi_value*radius**3)/3\n",
        "\n",
        "print('The volume of sphere : {}'.format(sphere))"
      ],
      "metadata": {
        "colab": {
          "base_uri": "https://localhost:8080/"
        },
        "id": "b2sLVjIlT9Cv",
        "outputId": "2a1dde0a-c07f-4342-c68a-9b196b649fa1"
      },
      "execution_count": 10,
      "outputs": [
        {
          "output_type": "stream",
          "name": "stdout",
          "text": [
            "Enter the radius of sphare4\n",
            "The volume of sphere : 268.1904761904762\n"
          ]
        }
      ]
    },
    {
      "cell_type": "markdown",
      "source": [
        "5. Write a program that finds the average of three numbers."
      ],
      "metadata": {
        "id": "BDbJqgjwWlq7"
      }
    },
    {
      "cell_type": "code",
      "source": [
        "number_01 = float(input(\"Enter the first number : \"))\n",
        "number_02 = float(input(\"Enter the second number : \"))\n",
        "number_03 = float(input(\"Enter the third number : \"))\n",
        "\n",
        "average = (number_01+number_02+number_03)/3\n",
        "\n",
        "print (\"The average of three number is : {}\".form1at(average))"
      ],
      "metadata": {
        "colab": {
          "base_uri": "https://localhost:8080/"
        },
        "id": "vQcu16KlWmlC",
        "outputId": "bea7c1a7-f220-49e2-af70-b97b0558c729"
      },
      "execution_count": 14,
      "outputs": [
        {
          "output_type": "stream",
          "name": "stdout",
          "text": [
            "Enter the first number : 10\n",
            "Enter the second number : 10\n",
            "Enter the third number : 10\n",
            "The average of three number is : 10.0\n"
          ]
        }
      ]
    },
    {
      "cell_type": "markdown",
      "source": [
        "6. Write a program that determines if a number is even or odd."
      ],
      "metadata": {
        "id": "QbqjiIcJXxxo"
      }
    },
    {
      "cell_type": "code",
      "source": [
        "number = int(input(\"Enter a number : \"))\n",
        "\n",
        "if number%2 == 0 :\n",
        "  print(\"The number ({}) is even\".format(number))\n",
        "else:\n",
        "  print(\"The number ({}) is odd\".format(number))\n",
        "\n"
      ],
      "metadata": {
        "colab": {
          "base_uri": "https://localhost:8080/"
        },
        "id": "EmZl6v7IX2Fo",
        "outputId": "77ef6a85-ffc4-4e17-8ad8-024fa0236d4c"
      },
      "execution_count": 17,
      "outputs": [
        {
          "output_type": "stream",
          "name": "stdout",
          "text": [
            "Enter a number : 10\n",
            "The number (10) is even\n"
          ]
        }
      ]
    },
    {
      "cell_type": "markdown",
      "source": [
        "7. Write a program that finds the maximum of three numbers."
      ],
      "metadata": {
        "id": "QOFOYa2IZRol"
      }
    },
    {
      "cell_type": "code",
      "source": [
        "n1 = float(input(\"Enter first number : \"))\n",
        "n2 = float(input(\"Enter second number : \"))\n",
        "n3 = float(input(\"Enter third number : \"))\n",
        "\n",
        "if n1>=n2 and n1>=n3:\n",
        "  print('The maximun number is {}'.format(n1))\n",
        "elif n2>=n1 and n2>=n3:\n",
        "  print('The maximun number is {}'.format(n2))\n",
        "else:\n",
        "\n",
        "  print('The maximun number is {}'.format(n3))"
      ],
      "metadata": {
        "colab": {
          "base_uri": "https://localhost:8080/"
        },
        "id": "xw7C5-DhZSt8",
        "outputId": "cad156f6-5ff9-4ae0-e50f-eb6cfb765dbd"
      },
      "execution_count": 20,
      "outputs": [
        {
          "output_type": "stream",
          "name": "stdout",
          "text": [
            "Enter first number : 105.2\n",
            "Enter second number : 22\n",
            "Enter third number : 45\n",
            "The maximun number is 105.2\n"
          ]
        }
      ]
    },
    {
      "cell_type": "markdown",
      "source": [
        "8. Write a program that determines if a year is a leap year or not."
      ],
      "metadata": {
        "id": "-JuZQhLea-jZ"
      }
    },
    {
      "cell_type": "code",
      "source": [
        "year = int(input(\"Enter a year: \"))\n",
        "\n",
        "\n",
        "if year % 4 == 0:\n",
        "\n",
        "    if year % 100 == 0:\n",
        "        if year % 400 == 0:\n",
        "            print(year, \"is a leap year\")\n",
        "        else:\n",
        "            print(year, \"is not a leap year\")\n",
        "    else:\n",
        "        print(year, \"is a leap year\")\n",
        "else:\n",
        "    print(year, \"is not a leap year\")"
      ],
      "metadata": {
        "id": "thSyxOxYbzJE"
      },
      "execution_count": null,
      "outputs": []
    },
    {
      "cell_type": "markdown",
      "source": [
        "9. Write a program that determines if a number is positive, negative, or zero."
      ],
      "metadata": {
        "id": "vQWL_BdGb8dv"
      }
    },
    {
      "cell_type": "code",
      "source": [
        "number = float(input(\"Enter a number : \"))\n",
        "\n",
        "if number > 0 :\n",
        "  print ('The number ({}) is positive'.format(number))\n",
        "elif number < 0:\n",
        "  print('The number ({}) is negative'.format(number))\n",
        "else:\n",
        "    print ('The number ({}) is equal to zero'.format(number))\n"
      ],
      "metadata": {
        "colab": {
          "base_uri": "https://localhost:8080/"
        },
        "id": "unh_fGZzb-pG",
        "outputId": "3c824b24-5d28-402b-cdb6-cdb018724d95"
      },
      "execution_count": 23,
      "outputs": [
        {
          "output_type": "stream",
          "name": "stdout",
          "text": [
            "Enter a number : 5.652\n",
            "The number (5.652) is positive\n"
          ]
        }
      ]
    },
    {
      "cell_type": "markdown",
      "source": [
        "10. Write a program that calculates the grade based on a given percentage."
      ],
      "metadata": {
        "id": "m16NQAXVdKQc"
      }
    },
    {
      "cell_type": "code",
      "source": [
        "percentage = float(input('Enter your percentage : '))\n",
        "\n",
        "if percentage>=90:\n",
        "  print('A+')\n",
        "elif percentage>=80:\n",
        "  print('A')\n",
        "elif percentage>=70:\n",
        " print('B+')\n",
        "elif percentage>=60:\n",
        " print('B')\n",
        "elif percentage>=50:\n",
        " print('c')\n",
        "elif percentage>=40:\n",
        " print('D')\n",
        "else:\n",
        "  print('Fail')"
      ],
      "metadata": {
        "colab": {
          "base_uri": "https://localhost:8080/"
        },
        "id": "FoUFI-PpdN20",
        "outputId": "738ba674-2e92-416d-e418-23bcce94e40b"
      },
      "execution_count": 32,
      "outputs": [
        {
          "output_type": "stream",
          "name": "stdout",
          "text": [
            "Enter your percentage : 65.5\n",
            "B\n"
          ]
        }
      ]
    },
    {
      "cell_type": "markdown",
      "source": [
        "11. Write a program that prints the first `n` natural numbers."
      ],
      "metadata": {
        "id": "NUOm7FhNhihb"
      }
    },
    {
      "cell_type": "code",
      "source": [
        "n = int(input('Enter natural number : '))\n",
        "\n",
        "for i in range (1, n+1):\n",
        "  print (i, end='')"
      ],
      "metadata": {
        "colab": {
          "base_uri": "https://localhost:8080/"
        },
        "id": "C7pHmV51hn-y",
        "outputId": "3fa2562a-d397-4431-f73f-d1d74272ccae"
      },
      "execution_count": 36,
      "outputs": [
        {
          "output_type": "stream",
          "name": "stdout",
          "text": [
            "Enter natural number : 50\n",
            "1234567891011121314151617181920212223242526272829303132333435363738394041424344454647484950"
          ]
        }
      ]
    },
    {
      "cell_type": "markdown",
      "source": [
        "12. Write a program that calculates the factorial of a number."
      ],
      "metadata": {
        "id": "d_fhQM0ujGLw"
      }
    },
    {
      "cell_type": "code",
      "source": [
        "num = int (input (\"Enter a number : \"))\n",
        "factorial = 1\n",
        "\n",
        "if num < 0:\n",
        "  print (\"factorial not exits for negative numbers \")\n",
        "elif num == 0:\n",
        "  print('The factorial is 1')\n",
        "else:\n",
        "  for i in range (1,num+1):\n",
        "    factorial = factorial*i\n",
        "  print(\"The factorial is : {}\".format(factorial))"
      ],
      "metadata": {
        "colab": {
          "base_uri": "https://localhost:8080/"
        },
        "id": "tHRNs_QhjH2R",
        "outputId": "44d2b3ef-cff3-4d6c-e878-1ca33f577b78"
      },
      "execution_count": 43,
      "outputs": [
        {
          "output_type": "stream",
          "name": "stdout",
          "text": [
            "Enter a number : 3\n",
            "The factorial is : 6\n"
          ]
        }
      ]
    },
    {
      "cell_type": "markdown",
      "source": [
        "13. Write a program that generates a Fibonacci sequence of length `n`."
      ],
      "metadata": {
        "id": "pX71xg1vl09C"
      }
    },
    {
      "cell_type": "code",
      "source": [
        "n = int(input(\"Enter the desired length of the Fibonacci sequence: \"))\n",
        "\n",
        "\n",
        "if n < 0:\n",
        "  print(\"Fibonacci sequence is not defined for negative lengths.\")\n",
        "elif n == 0:\n",
        "  print(\"The sequence is empty for length 0.\")\n",
        "else:\n",
        "\n",
        "  a, b = 0, 1\n",
        "  fib_sequence = []\n",
        "\n",
        "\n",
        "  for _ in range(n):\n",
        "    fib_sequence.append(a)\n",
        "    a, b = b, a + b\n",
        "\n",
        "\n",
        "  print(f\"The Fibonacci sequence of length {n} is: {fib_sequence}\")"
      ],
      "metadata": {
        "colab": {
          "base_uri": "https://localhost:8080/"
        },
        "id": "2bso4IMsl4uJ",
        "outputId": "d81b4ea8-415f-459f-aa2d-4b39a4ad3b4f"
      },
      "execution_count": 63,
      "outputs": [
        {
          "output_type": "stream",
          "name": "stdout",
          "text": [
            "Enter the desired length of the Fibonacci sequence: 44\n",
            "The Fibonacci sequence of length 44 is: [0, 1, 1, 2, 3, 5, 8, 13, 21, 34, 55, 89, 144, 233, 377, 610, 987, 1597, 2584, 4181, 6765, 10946, 17711, 28657, 46368, 75025, 121393, 196418, 317811, 514229, 832040, 1346269, 2178309, 3524578, 5702887, 9227465, 14930352, 24157817, 39088169, 63245986, 102334155, 165580141, 267914296, 433494437]\n"
          ]
        }
      ]
    },
    {
      "cell_type": "markdown",
      "source": [
        "14. Write a program that checks if a given number is prime or not."
      ],
      "metadata": {
        "id": "MPMLwazcnBBn"
      }
    },
    {
      "cell_type": "code",
      "source": [
        "number = int(input('Enter a number '))\n",
        "\n",
        "if number >1:\n",
        "  for i in range(2,number//2+1):\n",
        "    if number%i ==0:\n",
        "      print('{} This is not prime'.format(number))\n",
        "      break\n",
        "    else:\n",
        "      print('{} this is prime'.format(number))\n",
        "\n",
        "else:\n",
        "  print('{}The number is not prime'.format(number))"
      ],
      "metadata": {
        "colab": {
          "base_uri": "https://localhost:8080/"
        },
        "id": "ltGZApp4nCNX",
        "outputId": "951a99dc-3207-4e5b-bb0b-55f0181432d2"
      },
      "execution_count": 52,
      "outputs": [
        {
          "output_type": "stream",
          "name": "stdout",
          "text": [
            "Enter a number 5\n",
            "5 this is prime\n"
          ]
        }
      ]
    },
    {
      "cell_type": "markdown",
      "source": [
        "15. Write a program that prints the multiplication table of a given number."
      ],
      "metadata": {
        "id": "CmXv1wI5q4Un"
      }
    },
    {
      "cell_type": "code",
      "source": [
        "\n",
        "number = int(input(\"enter multipication number\"))\n",
        "\n",
        "for i in range(1, number+1):\n",
        "\n",
        "  x = number * i\n",
        "  print('{}*{}={}'.format(number,i,x))"
      ],
      "metadata": {
        "colab": {
          "base_uri": "https://localhost:8080/"
        },
        "id": "Qp2aWkY-q7N_",
        "outputId": "b6df3546-b9f1-49ce-f665-ab93a8a65cdd"
      },
      "execution_count": 61,
      "outputs": [
        {
          "output_type": "stream",
          "name": "stdout",
          "text": [
            "enter multipication number10\n",
            "10*1=10\n",
            "10*2=20\n",
            "10*3=30\n",
            "10*4=40\n",
            "10*5=50\n",
            "10*6=60\n",
            "10*7=70\n",
            "10*8=80\n",
            "10*9=90\n",
            "10*10=100\n"
          ]
        }
      ]
    },
    {
      "cell_type": "code",
      "source": [],
      "metadata": {
        "id": "xw4cZ_3-sIcw"
      },
      "execution_count": null,
      "outputs": []
    },
    {
      "cell_type": "markdown",
      "source": [
        "16. Write a program that finds the sum of all even numbers between 1 and `n`."
      ],
      "metadata": {
        "id": "HEZ5MXQ4tgvJ"
      }
    },
    {
      "cell_type": "code",
      "source": [
        "n = int(input(\"Enter the upper limit for even numbers: \"))\n",
        "\n",
        "\n",
        "current_num = 2\n",
        "sum_of_even_numbers = 0\n",
        "\n",
        "\n",
        "while current_num <= n:\n",
        "\n",
        "  sum_of_even_numbers += current_num\n",
        "\n",
        "  current_num += 2\n",
        "\n",
        "print(f\"The sum of even numbers between 1 and {n} is: {sum_of_even_numbers}\")"
      ],
      "metadata": {
        "colab": {
          "base_uri": "https://localhost:8080/"
        },
        "id": "bwzRZtTXtjPD",
        "outputId": "6ba8337d-f914-4a6e-dd52-0c889eff8ed3"
      },
      "execution_count": 64,
      "outputs": [
        {
          "output_type": "stream",
          "name": "stdout",
          "text": [
            "Enter the upper limit for even numbers: 4\n",
            "The sum of even numbers between 1 and 4 is: 6\n"
          ]
        }
      ]
    },
    {
      "cell_type": "markdown",
      "source": [
        "17. Write a program that reverses a given number."
      ],
      "metadata": {
        "id": "b-AhV4FduGth"
      }
    },
    {
      "cell_type": "code",
      "source": [
        "number = int(input(\"Enter a number: \"))\n",
        "\n",
        "reversed_number = 0\n",
        "remainder = 0\n",
        "while number !=0:\n",
        "  remainder = number % 10\n",
        "  reversed_number = reversed_number * 10 + remainder\n",
        "  number //= 10\n",
        "print(f\"The reversed number is: {reversed_number}\")"
      ],
      "metadata": {
        "colab": {
          "base_uri": "https://localhost:8080/"
        },
        "id": "d88LPxpPuJeJ",
        "outputId": "e672ec2b-aa8f-4655-c74f-c3c302d07f73"
      },
      "execution_count": 66,
      "outputs": [
        {
          "output_type": "stream",
          "name": "stdout",
          "text": [
            "Enter a number: 69\n",
            "The reversed number is: 96\n"
          ]
        }
      ]
    },
    {
      "cell_type": "markdown",
      "source": [
        "18. Write a program that checks if a given string, is a palindrome."
      ],
      "metadata": {
        "id": "oiyTwhFYvC-Y"
      }
    },
    {
      "cell_type": "code",
      "source": [
        "def is_palindrome(text):\n",
        "\n",
        "\n",
        "  text = ''.join(char.lower() for char in text if char.isalnum())\n",
        "\n",
        "\n",
        "  left_index = 0\n",
        "  right_index = len(text) - 1\n",
        "\n",
        "\n",
        "  while left_index < right_index:\n",
        "\n",
        "    if text[left_index] != text[right_index]:\n",
        "      return False\n",
        "    left_index += 1\n",
        "    right_index -= 1\n",
        "\n",
        "  return True\n",
        "\n",
        "\n",
        "print(is_palindrome(\"racecar\"))\n",
        "print(is_palindrome(\"hello\"))\n",
        "print(is_palindrome(\"A man, a plan, a canal: Panama\"))"
      ],
      "metadata": {
        "colab": {
          "base_uri": "https://localhost:8080/"
        },
        "id": "PUUqLHV-vE4f",
        "outputId": "92909dc2-fbdd-4736-8072-3dd10b2c28ee"
      },
      "execution_count": 67,
      "outputs": [
        {
          "output_type": "stream",
          "name": "stdout",
          "text": [
            "True\n",
            "False\n",
            "True\n"
          ]
        }
      ]
    },
    {
      "cell_type": "markdown",
      "source": [
        "19. Write a program that generates a random number and allows the user to guess it."
      ],
      "metadata": {
        "id": "H0chi55bvxSi"
      }
    },
    {
      "cell_type": "code",
      "source": [
        "import random\n",
        "\n",
        "\n",
        "secret_number = random.randint(1, 100)\n",
        "\n",
        "print(f\"Welcome to the guessing game! You have 10 attempts to guess a number between 1 and 100.\")\n",
        "print(\"Hint: The number is a whole number between 1 and 100.\")\n",
        "\n",
        "for attempt in range(1, 11):\n",
        "  try:\n",
        "    guess = int(input(\"Enter your guess: \"))\n",
        "  except ValueError:\n",
        "    print(\"Invalid input. Please enter a valid integer.\")\n",
        "    continue\n",
        "\n",
        "  if guess == secret_number:\n",
        "    print(f\"Congratulations! You guessed the number in {attempt} attempts.\")\n",
        "    break\n",
        "  elif guess < secret_number:\n",
        "    print(\"Your guess is too low. Try again.\")\n",
        "  else:\n",
        "    print(\"Your guess is too high. Try again.\")\n",
        "\n",
        "\n",
        "if guess != secret_number:\n",
        "  print(f\"Sorry, you ran out of attempts. The secret number was {secret_number}.\")\n",
        "\n",
        "\n",
        "play_again = input(\"Do you want to play again? (yes/no) \").lower()\n",
        "if play_again == \"yes\":\n",
        "\n",
        "  secret_number = random.randint(1, 100)\n",
        "  print(f\"Welcome to the guessing game! You have 10 attempts to guess a number between 1 and 100.\")\n",
        "  print(\"Hint: The number is a whole number between 1 and 100.\")\n",
        "\n",
        "  for attempt in range(1, 11):\n",
        "    try:\n",
        "      guess = int(input(\"Enter your guess: \"))\n",
        "    except ValueError:\n",
        "      print(\"Invalid input. Please enter a valid integer.\")\n",
        "      continue\n",
        "\n",
        "    if guess == secret_number:\n",
        "      print(f\"Congratulations! You guessed the number in {attempt} attempts.\")\n",
        "      break\n",
        "    elif guess < secret_number:\n",
        "      print(\"Your guess is too low. Try again.\")\n",
        "    else:\n",
        "      print(\"Your guess is too high. Try again.\")\n",
        "\n",
        "  if guess != secret_number:\n",
        "    print(f\"Sorry, you ran out of attempts. The secret number was {secret_number}.\")"
      ],
      "metadata": {
        "colab": {
          "base_uri": "https://localhost:8080/"
        },
        "id": "1Bw06-GyvyYV",
        "outputId": "58f5b41f-2fcd-44e2-ef4e-30701e858dc8"
      },
      "execution_count": null,
      "outputs": [
        {
          "output_type": "stream",
          "name": "stdout",
          "text": [
            "Welcome to the guessing game! You have 10 attempts to guess a number between 1 and 100.\n",
            "Hint: The number is a whole number between 1 and 100.\n",
            "Enter your guess: 40\n",
            "Your guess is too high. Try again.\n",
            "Enter your guess: 2\n",
            "Your guess is too low. Try again.\n",
            "Enter your guess: 10\n",
            "Your guess is too low. Try again.\n"
          ]
        }
      ]
    },
    {
      "cell_type": "markdown",
      "source": [
        "20. Write a program that finds the greatest common divisor (GCD) of two numbers."
      ],
      "metadata": {
        "id": "Yboe01yXw1JH"
      }
    },
    {
      "cell_type": "code",
      "source": [
        "def gcd(a, b):\n",
        "\n",
        "  while b != 0:\n",
        "    remainder = a % b\n",
        "    a = b\n",
        "    b = remainder\n",
        "\n",
        "  return a\n",
        "\n",
        "\n",
        "num1 = 12\n",
        "num2 = 18\n",
        "gcd_result = gcd(num1, num2)\n",
        "print(f\"The greatest common divisor of {num1} and {num2} is: {gcd_result}\")"
      ],
      "metadata": {
        "id": "8WU_XGSWw1rG"
      },
      "execution_count": null,
      "outputs": []
    }
  ]
}